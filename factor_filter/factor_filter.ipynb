{
 "cells": [
  {
   "cell_type": "code",
   "execution_count": 1,
   "id": "713d3204",
   "metadata": {},
   "outputs": [],
   "source": [
    "import numpy as np\n",
    "from my_utils import read_csv,get_pivot_data"
   ]
  },
  {
   "cell_type": "code",
   "execution_count": 2,
   "id": "7a89b19e",
   "metadata": {},
   "outputs": [],
   "source": [
    "from factor_gen.factor101 import get_raw_factor101\n",
    "\n",
    "df = read_csv(dir_name='C:/Users/DELL/Desktop/recent/研一下/学习/量化/final_project/quant_code/raw_data/combine_data/',file_name='factor101_financial')"
   ]
  },
  {
   "cell_type": "code",
   "execution_count": 3,
   "id": "ddc56a3d",
   "metadata": {},
   "outputs": [
    {
     "ename": "NameError",
     "evalue": "name 'factor' is not defined",
     "output_type": "error",
     "traceback": [
      "\u001B[1;31m---------------------------------------------------------------------------\u001B[0m",
      "\u001B[1;31mNameError\u001B[0m                                 Traceback (most recent call last)",
      "\u001B[1;32m<ipython-input-3-6b0834bdec9c>\u001B[0m in \u001B[0;36m<module>\u001B[1;34m\u001B[0m\n\u001B[1;32m----> 1\u001B[1;33m \u001B[0mtime_data\u001B[0m \u001B[1;33m=\u001B[0m \u001B[0mget_pivot_data\u001B[0m\u001B[1;33m(\u001B[0m\u001B[0mdf\u001B[0m\u001B[1;33m,\u001B[0m\u001B[1;34m'time'\u001B[0m\u001B[1;33m)\u001B[0m\u001B[1;33m\u001B[0m\u001B[1;33m\u001B[0m\u001B[0m\n\u001B[0m\u001B[0;32m      2\u001B[0m \u001B[1;33m\u001B[0m\u001B[0m\n\u001B[0;32m      3\u001B[0m \u001B[1;32mdef\u001B[0m \u001B[0mget_ic_beta_t\u001B[0m\u001B[1;33m(\u001B[0m\u001B[0mall_data_dict\u001B[0m\u001B[1;33m,\u001B[0m\u001B[0mfactor_name\u001B[0m\u001B[1;33m)\u001B[0m\u001B[1;33m:\u001B[0m\u001B[1;33m\u001B[0m\u001B[1;33m\u001B[0m\u001B[0m\n\u001B[0;32m      4\u001B[0m     \"\"\"\n\u001B[0;32m      5\u001B[0m     \u001B[0m输入\u001B[0m\u001B[1;33m:\u001B[0m\u001B[0m所有截面期的因子数据字典\u001B[0m\u001B[1;33m{\u001B[0m\u001B[1;34m'2020-01-31'\u001B[0m\u001B[1;33m:\u001B[0m\u001B[0m因子df\u001B[0m\u001B[1;33m,\u001B[0m\u001B[1;33m...\u001B[0m\u001B[1;33m}\u001B[0m\u001B[1;33m\u001B[0m\u001B[1;33m\u001B[0m\u001B[0m\n",
      "\u001B[1;32m~\\Desktop\\recent\\研一下\\学习\\量化\\final_project\\quant_code\\factor_filter\\my_utils.py\u001B[0m in \u001B[0;36mget_pivot_data\u001B[1;34m(df, dim_type)\u001B[0m\n\u001B[0;32m    102\u001B[0m     \u001B[0mdf\u001B[0m\u001B[1;33m[\u001B[0m\u001B[1;34m'time'\u001B[0m\u001B[1;33m]\u001B[0m \u001B[1;33m=\u001B[0m \u001B[0mdf\u001B[0m\u001B[1;33m.\u001B[0m\u001B[0mindex\u001B[0m\u001B[1;33m\u001B[0m\u001B[1;33m\u001B[0m\u001B[0m\n\u001B[0;32m    103\u001B[0m     \u001B[0mdf2\u001B[0m \u001B[1;33m=\u001B[0m \u001B[0mdf\u001B[0m\u001B[1;33m.\u001B[0m\u001B[0mreset_index\u001B[0m\u001B[1;33m(\u001B[0m\u001B[0mdrop\u001B[0m \u001B[1;33m=\u001B[0m \u001B[1;34m'True'\u001B[0m\u001B[1;33m)\u001B[0m\u001B[1;33m\u001B[0m\u001B[1;33m\u001B[0m\u001B[0m\n\u001B[1;32m--> 104\u001B[1;33m     \u001B[0mdf_temp\u001B[0m \u001B[1;33m=\u001B[0m \u001B[0mdf2\u001B[0m\u001B[1;33m[\u001B[0m\u001B[1;33m[\u001B[0m\u001B[1;34m'time'\u001B[0m\u001B[1;33m,\u001B[0m\u001B[0mfactor\u001B[0m\u001B[1;33m,\u001B[0m\u001B[1;34m'code'\u001B[0m\u001B[1;33m]\u001B[0m\u001B[1;33m]\u001B[0m\u001B[1;33m\u001B[0m\u001B[1;33m\u001B[0m\u001B[0m\n\u001B[0m\u001B[0;32m    105\u001B[0m     \u001B[0mkeys\u001B[0m \u001B[1;33m=\u001B[0m \u001B[0mdf\u001B[0m\u001B[1;33m[\u001B[0m\u001B[0mdim_type\u001B[0m\u001B[1;33m]\u001B[0m\u001B[1;33m.\u001B[0m\u001B[0mvalues\u001B[0m\u001B[1;33m\u001B[0m\u001B[1;33m\u001B[0m\u001B[0m\n\u001B[0;32m    106\u001B[0m \u001B[1;33m\u001B[0m\u001B[0m\n",
      "\u001B[1;31mNameError\u001B[0m: name 'factor' is not defined"
     ]
    }
   ],
   "source": [
    "#https://www.joinquant.com/view/community/detail/b8ae4f443d688b7d479c07dffdf3fd56?type=1\n",
    "time_data = get_pivot_data(df,'time')\n",
    "\n",
    "def get_ic_beta_t(all_data_dict,factor_name):\n",
    "    \"\"\"\n",
    "    输入:所有截面期的因子数据字典{'2020-01-31':因子df,...}\n",
    "    输出:所有因子的ic,因子收益率,t值的df\n",
    "    \"\"\"\n",
    "    # 定义存放所有期,所有因子的ic,beta,t字典\n",
    "    factors_ic_all_period={}\n",
    "    factors_beta_all_period = {}\n",
    "    factors_t_all_period={}\n",
    "\n",
    "    # 遍历因子数据每一期\n",
    "    for k,v in all_data_dict.items():\n",
    "\n",
    "        # 定义存放单期所有因子的ic列表\n",
    "        factors_ic_period = []\n",
    "        factors_beta_period = []\n",
    "        factors_t_period = []\n",
    "        \n",
    "        # 遍历每列因子\n",
    "        for factor in v.columns[:-1]:\n",
    "\n",
    "            ########### 因子IC ############\n",
    "            # 计算与最后一列的收益秩相关系数\n",
    "            ic = st.spearmanr(v[factor],v['return'])[0]\n",
    "            # 依次存入列表\n",
    "            factors_ic_period.append(ic)\n",
    "\n",
    "            ########### 因子收益率,t值 ###########\n",
    "            # 每列因子与收益率RLM回归,得到系数,t值\n",
    "            # 加截距,变成二维\n",
    "            x=sm.add_constant(v[factor])\n",
    "            model = sm.RLM(v['return'],x).fit()\n",
    "            factors_beta_period.append(model.params[1])\n",
    "            factors_t_period.append(model.tvalues[1])\n",
    "        \n",
    "        # 将因子列表存入这一期的字典\n",
    "        factors_ic_all_period[k] = factors_ic_period\n",
    "        factors_beta_all_period[k] = factors_beta_period \n",
    "        factors_t_all_period[k] = factors_t_period\n",
    "        print(f\"{k}数据已处理\")\n",
    "    #------------将得到的3个字典转为df--------------#\n",
    "    ic_df = dict_to_df(factors_ic_all_period,factor_name,'IC')\n",
    "    beta_df = dict_to_df(factors_beta_all_period,factor_name,'beta')\n",
    "    t_df = dict_to_df(factors_t_all_period,factor_name,'t')\n",
    "    print(\"所有数据处理完毕!\")\n",
    "    return ic_df,beta_df,t_df"
   ]
  },
  {
   "cell_type": "code",
   "execution_count": 11,
   "id": "f94c65fa",
   "metadata": {
    "pycharm": {
     "name": "#%%\n"
    }
   },
   "outputs": [],
   "source": [
    "import scipy.stats as st\n",
    "\n",
    "def pn_TransNorm_per_col(x):\n",
    "    rank1 = x.rank(axis=0)\n",
    "    rank2 = rank1.count()\n",
    "    rank4 = (rank1 - 1) / rank2\n",
    "    rank5 = rank4 + 1 / 2 / rank2\n",
    "    return st.norm.ppf(rank5)\n",
    "\n",
    "def get_per_day_return(per_day_data, factor, ret='y'):\n",
    "    f = pn_TransNorm_per_col(per_day_data[factor])\n",
    "    ret_pd = f * per_day_data[ret]\n",
    "    ret_pd = ret_pd.mean()\n",
    "    return ret_pd\n",
    "\n",
    "def get_SharpRatio(total_data, date, fator, ret='y'):\n",
    "    return_line = total_data.groupby([str(date)]).apply(lambda x : get_per_day_return(x, str(fator), str(ret)))\n",
    "    sr = return_line.mean() / return_line.std() * 15\n",
    "    return round(sr, 3), return_line\n",
    "\n",
    "def PerformanceWithCost(f1, TotalRet, delayNum, cost, fig, SDate, EDate):\n",
    "    # 1 normalize\n",
    "    f1_stand = pn_TransNorm(f1.round(4))\n",
    "    # 2 ts_Delay 2 days\n",
    "    f1_stand_D2 = ts_Delay(f1_stand, delayNum)\n",
    "    # get the factor return for each stocks\n",
    "    factorRet = f1_stand_D2 * TotalRet\n",
    "    # 3 convert negative factor to positive\n",
    "    if factorRet.mean(1).mean() < 0:\n",
    "        factorRet = factorRet * -1\n",
    "    # 4 get cost\n",
    "    Cost = GetCost(f1_stand_D2, cost)\n",
    "    factorRet = factorRet - Cost\n",
    "    # 5 choose date & clean data\n",
    "    factorRet = factorRet.iloc[SDate:EDate]\n",
    "    factorRetLine = factorRet.mean(1)\n",
    "    factorRetLine[factorRetLine == 0] = np.nan\n",
    "    # 6 get Sharpe ratio and annual return\n",
    "    sr1 = factorRetLine.mean() / factorRetLine.std() * 15\n",
    "    ret1 = factorRetLine.mean() * 250\n",
    "    # 7 plot picture if fig == 1\n",
    "    if fig == 1:\n",
    "        factorRetLine[np.isnan(factorRetLine)] = 0\n",
    "        Cumsums = factorRetLine.cumsum()\n",
    "        plt.plot(Cumsums)\n",
    "        plt.title('Factor Return: Sharpe Ratio = ' + str(round(sr1, 4)))\n",
    "    # print\n",
    "    print('SR:', round(sr1, 3), 'AR:', round(ret1, 3), 'TO:', GetTurnover(f1_stand))\n",
    "    return round(sr1, 3), round(ret1, 3), factorRetLine"
   ]
  },
  {
   "cell_type": "code",
   "execution_count": 1,
   "outputs": [
    {
     "name": "stdout",
     "output_type": "stream",
     "text": [
      "generate x...\n",
      "finish preparing forecast data\n",
      "finish preparing balance sheet data\n",
      "finish preparing incomestatement data\n",
      "finish merging 3 datas\n",
      "generate y...\n",
      "500\n",
      "1000\n",
      "1500\n",
      "2000\n",
      "2500\n",
      "3000\n",
      "3500\n",
      "4000\n",
      "4500\n"
     ]
    }
   ],
   "source": [
    "import pandas as pd\n",
    "from utils import calculators\n",
    "import factor_gen.y as y\n",
    "from factor_gen.factor101 import get_raw_factor101\n",
    "print('generate x...')\n",
    "data = get_raw_factor101()\n",
    "data[list(data.columns)[2:]] = data.groupby('Ticker').apply(lambda x:calculators.ts_Decay2(x[list(x.columns)[2:]],5)).reset_index(drop =True)\n",
    "data['Ticker'] = data['Ticker'].astype(int)\n",
    "print('generate y...')\n",
    "y = y.get_day_rate()\n",
    "y['rate'] = y['rate'].shift(-20)#后移20天（用X预测20天之后的Y）\n",
    "\n",
    "total_data = pd.merge(data,y,how = 'inner',left_on = ['Ticker','PubDate'],right_on = ['code','time'])\n",
    "total_data = total_data.sort_values(by =['PubDate'],ascending =True)"
   ],
   "metadata": {
    "collapsed": false,
    "pycharm": {
     "name": "#%%\n"
    }
   }
  },
  {
   "cell_type": "code",
   "execution_count": 12,
   "outputs": [
    {
     "data": {
      "text/plain": "(0.102,\n PubDate\n 2018-01-02    0.000000\n 2018-01-03   -0.000890\n 2018-01-04    0.004454\n 2018-01-05   -0.009469\n 2018-01-06    0.000500\n                 ...   \n 2022-04-02   -0.000564\n 2022-04-03   -0.000637\n 2022-04-04   -0.000824\n 2022-04-05    0.000314\n 2022-04-06    0.000000\n Length: 1556, dtype: float64)"
     },
     "execution_count": 12,
     "metadata": {},
     "output_type": "execute_result"
    }
   ],
   "source": [
    "get_SharpRatio(total_data, 'PubDate', 'ROE', 'rate')"
   ],
   "metadata": {
    "collapsed": false,
    "pycharm": {
     "name": "#%%\n"
    }
   }
  },
  {
   "cell_type": "code",
   "execution_count": 3,
   "outputs": [
    {
     "data": {
      "text/plain": "0.8126875"
     },
     "execution_count": 3,
     "metadata": {},
     "output_type": "execute_result"
    }
   ],
   "source": [
    "import numpy as np\n",
    "def get_factor_corr(total_data, code, f1, f2):\n",
    "    corr = total_data.groupby([str(code)]).apply(lambda x: CorrRet(x[str(f1)], x[str(f2)]))\n",
    "    return corr.mean()\n",
    "\n",
    "\n",
    "def CorrRet(ret1, ret2):\n",
    "    idx = ret1 != 0\n",
    "    ret1_ = ret1[idx]\n",
    "    ret2_ = ret2[idx]\n",
    "    cor_ = np.corrcoef(ret1_, ret2_)\n",
    "    cor_ = cor_[0, 1]\n",
    "    return round(cor_, 4)\n",
    "\n",
    "get_factor_corr(total_data, 'code', 'DILUTED_EPS', 'ROE')"
   ],
   "metadata": {
    "collapsed": false,
    "pycharm": {
     "name": "#%%\n"
    }
   }
  },
  {
   "cell_type": "code",
   "execution_count": 2,
   "outputs": [
    {
     "data": {
      "text/plain": "           PubDate  Ticker       REVENUE      T_PROFIT  DILUTED_EPS  \\\n889264  2022-04-06    2120  1.943388e+09  1.560825e+08       0.3400   \n564656  2022-04-06     889  3.167811e+10  3.988338e+09       0.8025   \n1960136 2022-04-06    2911  9.588322e+09  4.400670e+08          NaN   \n680437  2022-04-06     998  1.266212e+09  9.319958e+07       0.2600   \n1686384 2022-04-06    2696  8.754194e+08  5.472962e+07       0.3029   \n\n           INCOME_TAX      N_PROFIT  REVENUE_GROWTH  T_PROFIT_GROWTH  \\\n889264   3.030150e+07  1.257810e+08        1.000000         1.000000   \n564656   5.807514e+08  3.407587e+09        1.000000         1.000000   \n1960136  7.477157e+07  3.652954e+08        1.058682         0.838068   \n680437  -1.382820e+07  1.070278e+08        1.000000         1.000000   \n1686384  2.874453e+06  5.185517e+07        1.000000         1.000000   \n\n              ROE  ...  EProfitCeiling  EProfitParentRateFloor  \\\n889264   0.094250  ...             NaN                  570.77   \n564656   0.158607  ...             NaN                  116.60   \n1960136  0.056907  ...             NaN                  823.00   \n680437   0.088960  ...             NaN                   67.00   \n1686384  0.062544  ...             NaN                    0.00   \n\n         EProfitParentRateCeiling  EProfitParentFloor  EProfitParentCeiling  \\\n889264                     608.66         177000000.0           187000000.0   \n564656                     141.80         736000000.0           822400000.0   \n1960136                    933.00         250000000.0           280000000.0   \n680437                     101.00         100000000.0           120000000.0   \n1686384                     50.00           8870000.0            13300000.0   \n\n         EEPSFloor  EEPSCeiling       time  rate  code  \n889264         NaN          NaN 2022-04-06   0.0  2120  \n564656         NaN          NaN 2022-04-06   0.0   889  \n1960136        NaN          NaN 2022-04-06   0.0  2911  \n680437         NaN          NaN 2022-04-06   0.0   998  \n1686384      0.048        0.072 2022-04-06   0.0  2696  \n\n[5 rows x 30 columns]",
      "text/html": "<div>\n<style scoped>\n    .dataframe tbody tr th:only-of-type {\n        vertical-align: middle;\n    }\n\n    .dataframe tbody tr th {\n        vertical-align: top;\n    }\n\n    .dataframe thead th {\n        text-align: right;\n    }\n</style>\n<table border=\"1\" class=\"dataframe\">\n  <thead>\n    <tr style=\"text-align: right;\">\n      <th></th>\n      <th>PubDate</th>\n      <th>Ticker</th>\n      <th>REVENUE</th>\n      <th>T_PROFIT</th>\n      <th>DILUTED_EPS</th>\n      <th>INCOME_TAX</th>\n      <th>N_PROFIT</th>\n      <th>REVENUE_GROWTH</th>\n      <th>T_PROFIT_GROWTH</th>\n      <th>ROE</th>\n      <th>...</th>\n      <th>EProfitCeiling</th>\n      <th>EProfitParentRateFloor</th>\n      <th>EProfitParentRateCeiling</th>\n      <th>EProfitParentFloor</th>\n      <th>EProfitParentCeiling</th>\n      <th>EEPSFloor</th>\n      <th>EEPSCeiling</th>\n      <th>time</th>\n      <th>rate</th>\n      <th>code</th>\n    </tr>\n  </thead>\n  <tbody>\n    <tr>\n      <th>889264</th>\n      <td>2022-04-06</td>\n      <td>2120</td>\n      <td>1.943388e+09</td>\n      <td>1.560825e+08</td>\n      <td>0.3400</td>\n      <td>3.030150e+07</td>\n      <td>1.257810e+08</td>\n      <td>1.000000</td>\n      <td>1.000000</td>\n      <td>0.094250</td>\n      <td>...</td>\n      <td>NaN</td>\n      <td>570.77</td>\n      <td>608.66</td>\n      <td>177000000.0</td>\n      <td>187000000.0</td>\n      <td>NaN</td>\n      <td>NaN</td>\n      <td>2022-04-06</td>\n      <td>0.0</td>\n      <td>2120</td>\n    </tr>\n    <tr>\n      <th>564656</th>\n      <td>2022-04-06</td>\n      <td>889</td>\n      <td>3.167811e+10</td>\n      <td>3.988338e+09</td>\n      <td>0.8025</td>\n      <td>5.807514e+08</td>\n      <td>3.407587e+09</td>\n      <td>1.000000</td>\n      <td>1.000000</td>\n      <td>0.158607</td>\n      <td>...</td>\n      <td>NaN</td>\n      <td>116.60</td>\n      <td>141.80</td>\n      <td>736000000.0</td>\n      <td>822400000.0</td>\n      <td>NaN</td>\n      <td>NaN</td>\n      <td>2022-04-06</td>\n      <td>0.0</td>\n      <td>889</td>\n    </tr>\n    <tr>\n      <th>1960136</th>\n      <td>2022-04-06</td>\n      <td>2911</td>\n      <td>9.588322e+09</td>\n      <td>4.400670e+08</td>\n      <td>NaN</td>\n      <td>7.477157e+07</td>\n      <td>3.652954e+08</td>\n      <td>1.058682</td>\n      <td>0.838068</td>\n      <td>0.056907</td>\n      <td>...</td>\n      <td>NaN</td>\n      <td>823.00</td>\n      <td>933.00</td>\n      <td>250000000.0</td>\n      <td>280000000.0</td>\n      <td>NaN</td>\n      <td>NaN</td>\n      <td>2022-04-06</td>\n      <td>0.0</td>\n      <td>2911</td>\n    </tr>\n    <tr>\n      <th>680437</th>\n      <td>2022-04-06</td>\n      <td>998</td>\n      <td>1.266212e+09</td>\n      <td>9.319958e+07</td>\n      <td>0.2600</td>\n      <td>-1.382820e+07</td>\n      <td>1.070278e+08</td>\n      <td>1.000000</td>\n      <td>1.000000</td>\n      <td>0.088960</td>\n      <td>...</td>\n      <td>NaN</td>\n      <td>67.00</td>\n      <td>101.00</td>\n      <td>100000000.0</td>\n      <td>120000000.0</td>\n      <td>NaN</td>\n      <td>NaN</td>\n      <td>2022-04-06</td>\n      <td>0.0</td>\n      <td>998</td>\n    </tr>\n    <tr>\n      <th>1686384</th>\n      <td>2022-04-06</td>\n      <td>2696</td>\n      <td>8.754194e+08</td>\n      <td>5.472962e+07</td>\n      <td>0.3029</td>\n      <td>2.874453e+06</td>\n      <td>5.185517e+07</td>\n      <td>1.000000</td>\n      <td>1.000000</td>\n      <td>0.062544</td>\n      <td>...</td>\n      <td>NaN</td>\n      <td>0.00</td>\n      <td>50.00</td>\n      <td>8870000.0</td>\n      <td>13300000.0</td>\n      <td>0.048</td>\n      <td>0.072</td>\n      <td>2022-04-06</td>\n      <td>0.0</td>\n      <td>2696</td>\n    </tr>\n  </tbody>\n</table>\n<p>5 rows × 30 columns</p>\n</div>"
     },
     "execution_count": 2,
     "metadata": {},
     "output_type": "execute_result"
    }
   ],
   "source": [
    "total_data.tail(5)"
   ],
   "metadata": {
    "collapsed": false,
    "pycharm": {
     "name": "#%%\n"
    }
   }
  }
 ],
 "metadata": {
  "kernelspec": {
   "display_name": "Python 3",
   "language": "python",
   "name": "python3"
  },
  "language_info": {
   "codemirror_mode": {
    "name": "ipython",
    "version": 3
   },
   "file_extension": ".py",
   "mimetype": "text/x-python",
   "name": "python",
   "nbconvert_exporter": "python",
   "pygments_lexer": "ipython3",
   "version": "3.6.12"
  }
 },
 "nbformat": 4,
 "nbformat_minor": 5
}