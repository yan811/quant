{
 "cells": [
  {
   "cell_type": "code",
   "execution_count": 1,
   "id": "713d3204",
   "metadata": {},
   "outputs": [],
   "source": [
    "from my_utils import read_csv,get_pivot_data"
   ]
  },
  {
   "cell_type": "code",
   "execution_count": 2,
   "id": "7a89b19e",
   "metadata": {},
   "outputs": [],
   "source": [
    "df = read_csv(dir_name='C:/Users/DELL/Desktop/recent/研一下/学习/量化/final_project/quant_code/raw_data/combine_data/',file_name='factor101_financial')"
   ]
  },
  {
   "cell_type": "code",
   "execution_count": 3,
   "id": "ddc56a3d",
   "metadata": {},
   "outputs": [
    {
     "ename": "NameError",
     "evalue": "name 'factor' is not defined",
     "output_type": "error",
     "traceback": [
      "\u001b[1;31m---------------------------------------------------------------------------\u001b[0m",
      "\u001b[1;31mNameError\u001b[0m                                 Traceback (most recent call last)",
      "\u001b[1;32m<ipython-input-3-6b0834bdec9c>\u001b[0m in \u001b[0;36m<module>\u001b[1;34m\u001b[0m\n\u001b[1;32m----> 1\u001b[1;33m \u001b[0mtime_data\u001b[0m \u001b[1;33m=\u001b[0m \u001b[0mget_pivot_data\u001b[0m\u001b[1;33m(\u001b[0m\u001b[0mdf\u001b[0m\u001b[1;33m,\u001b[0m\u001b[1;34m'time'\u001b[0m\u001b[1;33m)\u001b[0m\u001b[1;33m\u001b[0m\u001b[1;33m\u001b[0m\u001b[0m\n\u001b[0m\u001b[0;32m      2\u001b[0m \u001b[1;33m\u001b[0m\u001b[0m\n\u001b[0;32m      3\u001b[0m \u001b[1;32mdef\u001b[0m \u001b[0mget_ic_beta_t\u001b[0m\u001b[1;33m(\u001b[0m\u001b[0mall_data_dict\u001b[0m\u001b[1;33m,\u001b[0m\u001b[0mfactor_name\u001b[0m\u001b[1;33m)\u001b[0m\u001b[1;33m:\u001b[0m\u001b[1;33m\u001b[0m\u001b[1;33m\u001b[0m\u001b[0m\n\u001b[0;32m      4\u001b[0m     \"\"\"\n\u001b[0;32m      5\u001b[0m     \u001b[0m输入\u001b[0m\u001b[1;33m:\u001b[0m\u001b[0m所有截面期的因子数据字典\u001b[0m\u001b[1;33m{\u001b[0m\u001b[1;34m'2020-01-31'\u001b[0m\u001b[1;33m:\u001b[0m\u001b[0m因子df\u001b[0m\u001b[1;33m,\u001b[0m\u001b[1;33m...\u001b[0m\u001b[1;33m}\u001b[0m\u001b[1;33m\u001b[0m\u001b[1;33m\u001b[0m\u001b[0m\n",
      "\u001b[1;32m~\\Desktop\\recent\\研一下\\学习\\量化\\final_project\\quant_code\\factor_filter\\my_utils.py\u001b[0m in \u001b[0;36mget_pivot_data\u001b[1;34m(df, dim_type)\u001b[0m\n\u001b[0;32m    102\u001b[0m     \u001b[0mdf\u001b[0m\u001b[1;33m[\u001b[0m\u001b[1;34m'time'\u001b[0m\u001b[1;33m]\u001b[0m \u001b[1;33m=\u001b[0m \u001b[0mdf\u001b[0m\u001b[1;33m.\u001b[0m\u001b[0mindex\u001b[0m\u001b[1;33m\u001b[0m\u001b[1;33m\u001b[0m\u001b[0m\n\u001b[0;32m    103\u001b[0m     \u001b[0mdf2\u001b[0m \u001b[1;33m=\u001b[0m \u001b[0mdf\u001b[0m\u001b[1;33m.\u001b[0m\u001b[0mreset_index\u001b[0m\u001b[1;33m(\u001b[0m\u001b[0mdrop\u001b[0m \u001b[1;33m=\u001b[0m \u001b[1;34m'True'\u001b[0m\u001b[1;33m)\u001b[0m\u001b[1;33m\u001b[0m\u001b[1;33m\u001b[0m\u001b[0m\n\u001b[1;32m--> 104\u001b[1;33m     \u001b[0mdf_temp\u001b[0m \u001b[1;33m=\u001b[0m \u001b[0mdf2\u001b[0m\u001b[1;33m[\u001b[0m\u001b[1;33m[\u001b[0m\u001b[1;34m'time'\u001b[0m\u001b[1;33m,\u001b[0m\u001b[0mfactor\u001b[0m\u001b[1;33m,\u001b[0m\u001b[1;34m'code'\u001b[0m\u001b[1;33m]\u001b[0m\u001b[1;33m]\u001b[0m\u001b[1;33m\u001b[0m\u001b[1;33m\u001b[0m\u001b[0m\n\u001b[0m\u001b[0;32m    105\u001b[0m     \u001b[0mkeys\u001b[0m \u001b[1;33m=\u001b[0m \u001b[0mdf\u001b[0m\u001b[1;33m[\u001b[0m\u001b[0mdim_type\u001b[0m\u001b[1;33m]\u001b[0m\u001b[1;33m.\u001b[0m\u001b[0mvalues\u001b[0m\u001b[1;33m\u001b[0m\u001b[1;33m\u001b[0m\u001b[0m\n\u001b[0;32m    106\u001b[0m \u001b[1;33m\u001b[0m\u001b[0m\n",
      "\u001b[1;31mNameError\u001b[0m: name 'factor' is not defined"
     ]
    }
   ],
   "source": [
    "#https://www.joinquant.com/view/community/detail/b8ae4f443d688b7d479c07dffdf3fd56?type=1\n",
    "time_data = get_pivot_data(df,'time')\n",
    "\n",
    "def get_ic_beta_t(all_data_dict,factor_name):\n",
    "    \"\"\"\n",
    "    输入:所有截面期的因子数据字典{'2020-01-31':因子df,...}\n",
    "    输出:所有因子的ic,因子收益率,t值的df\n",
    "    \"\"\"\n",
    "    # 定义存放所有期,所有因子的ic,beta,t字典\n",
    "    factors_ic_all_period={}\n",
    "    factors_beta_all_period = {}\n",
    "    factors_t_all_period={}\n",
    "\n",
    "    # 遍历因子数据每一期\n",
    "    for k,v in all_data_dict.items():\n",
    "\n",
    "        # 定义存放单期所有因子的ic列表\n",
    "        factors_ic_period = []\n",
    "        factors_beta_period = []\n",
    "        factors_t_period = []\n",
    "        \n",
    "        # 遍历每列因子\n",
    "        for factor in v.columns[:-1]:\n",
    "\n",
    "            ########### 因子IC ############\n",
    "            # 计算与最后一列的收益秩相关系数\n",
    "            ic = st.spearmanr(v[factor],v['return'])[0]\n",
    "            # 依次存入列表\n",
    "            factors_ic_period.append(ic)\n",
    "\n",
    "            ########### 因子收益率,t值 ###########\n",
    "            # 每列因子与收益率RLM回归,得到系数,t值\n",
    "            # 加截距,变成二维\n",
    "            x=sm.add_constant(v[factor])\n",
    "            model = sm.RLM(v['return'],x).fit()\n",
    "            factors_beta_period.append(model.params[1])\n",
    "            factors_t_period.append(model.tvalues[1])\n",
    "        \n",
    "        # 将因子列表存入这一期的字典\n",
    "        factors_ic_all_period[k] = factors_ic_period\n",
    "        factors_beta_all_period[k] = factors_beta_period \n",
    "        factors_t_all_period[k] = factors_t_period\n",
    "        print(f\"{k}数据已处理\")\n",
    "    #------------将得到的3个字典转为df--------------#\n",
    "    ic_df = dict_to_df(factors_ic_all_period,factor_name,'IC')\n",
    "    beta_df = dict_to_df(factors_beta_all_period,factor_name,'beta')\n",
    "    t_df = dict_to_df(factors_t_all_period,factor_name,'t')\n",
    "    print(\"所有数据处理完毕!\")\n",
    "    return ic_df,beta_df,t_df"
   ]
  },
  {
   "cell_type": "code",
   "execution_count": null,
   "id": "f94c65fa",
   "metadata": {},
   "outputs": [],
   "source": []
  }
 ],
 "metadata": {
  "kernelspec": {
   "display_name": "Python 3",
   "language": "python",
   "name": "python3"
  },
  "language_info": {
   "codemirror_mode": {
    "name": "ipython",
    "version": 3
   },
   "file_extension": ".py",
   "mimetype": "text/x-python",
   "name": "python",
   "nbconvert_exporter": "python",
   "pygments_lexer": "ipython3",
   "version": "3.6.12"
  }
 },
 "nbformat": 4,
 "nbformat_minor": 5
}
