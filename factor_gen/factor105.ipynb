{
 "cells": [
  {
   "cell_type": "code",
   "execution_count": 1,
   "metadata": {
    "collapsed": true
   },
   "outputs": [
    {
     "name": "stdout",
     "output_type": "stream",
     "text": [
      "hello world\n"
     ]
    }
   ],
   "source": [
    "print('hello world')\n"
   ]
  },
  {
   "cell_type": "code",
   "execution_count": 5,
   "outputs": [
    {
     "ename": "NameError",
     "evalue": "name 'root' is not defined",
     "output_type": "error",
     "traceback": [
      "\u001B[1;31m---------------------------------------------------------------------------\u001B[0m",
      "\u001B[1;31mNameError\u001B[0m                                 Traceback (most recent call last)",
      "\u001B[1;32m<ipython-input-5-d3382eaa0586>\u001B[0m in \u001B[0;36m<module>\u001B[1;34m\u001B[0m\n\u001B[0;32m      4\u001B[0m \u001B[1;32mimport\u001B[0m \u001B[0mutils\u001B[0m\u001B[1;33m.\u001B[0m\u001B[0mtools\u001B[0m \u001B[1;32mas\u001B[0m \u001B[0mtools\u001B[0m\u001B[1;33m\u001B[0m\u001B[1;33m\u001B[0m\u001B[0m\n\u001B[0;32m      5\u001B[0m \u001B[1;32mimport\u001B[0m \u001B[0mutils\u001B[0m\u001B[1;33m.\u001B[0m\u001B[0mcalculators\u001B[0m \u001B[1;32mas\u001B[0m \u001B[0mcalculators\u001B[0m\u001B[1;33m\u001B[0m\u001B[1;33m\u001B[0m\u001B[0m\n\u001B[1;32m----> 6\u001B[1;33m \u001B[1;32mimport\u001B[0m \u001B[0mfactor_gen\u001B[0m\u001B[1;33m.\u001B[0m\u001B[0my\u001B[0m \u001B[1;32mas\u001B[0m \u001B[0my\u001B[0m\u001B[1;33m\u001B[0m\u001B[1;33m\u001B[0m\u001B[0m\n\u001B[0m\u001B[0;32m      7\u001B[0m \u001B[1;33m\u001B[0m\u001B[0m\n\u001B[0;32m      8\u001B[0m \u001B[1;32mdef\u001B[0m \u001B[0mload_data_from_PX\u001B[0m\u001B[1;33m(\u001B[0m\u001B[0mpath\u001B[0m\u001B[1;33m)\u001B[0m\u001B[1;33m:\u001B[0m\u001B[1;33m\u001B[0m\u001B[1;33m\u001B[0m\u001B[0m\n",
      "\u001B[1;32mD:\\Homework\\quant\\factor_gen\\y.py\u001B[0m in \u001B[0;36m<module>\u001B[1;34m\u001B[0m\n\u001B[0;32m     17\u001B[0m \u001B[1;32mimport\u001B[0m \u001B[0mutils\u001B[0m\u001B[1;33m.\u001B[0m\u001B[0mtools\u001B[0m \u001B[1;32mas\u001B[0m \u001B[0mtools\u001B[0m \u001B[1;31m# local module to deel with time format change\u001B[0m\u001B[1;33m\u001B[0m\u001B[1;33m\u001B[0m\u001B[0m\n\u001B[0;32m     18\u001B[0m \u001B[1;32mimport\u001B[0m \u001B[0mutils\u001B[0m\u001B[1;33m.\u001B[0m\u001B[0mcalculators\u001B[0m \u001B[1;32mas\u001B[0m \u001B[0mcalculators\u001B[0m\u001B[1;33m\u001B[0m\u001B[1;33m\u001B[0m\u001B[0m\n\u001B[1;32m---> 19\u001B[1;33m \u001B[1;32mimport\u001B[0m \u001B[0mfactor_gen\u001B[0m\u001B[1;33m.\u001B[0m\u001B[0mfactor101\u001B[0m\u001B[1;33m\u001B[0m\u001B[1;33m\u001B[0m\u001B[0m\n\u001B[0m\u001B[0;32m     20\u001B[0m \u001B[1;33m\u001B[0m\u001B[0m\n\u001B[0;32m     21\u001B[0m \u001B[1;33m\u001B[0m\u001B[0m\n",
      "\u001B[1;32mD:\\Homework\\quant\\factor_gen\\factor101.py\u001B[0m in \u001B[0;36m<module>\u001B[1;34m\u001B[0m\n\u001B[0;32m     99\u001B[0m \u001B[1;33m\u001B[0m\u001B[0m\n\u001B[0;32m    100\u001B[0m \u001B[1;33m\u001B[0m\u001B[0m\n\u001B[1;32m--> 101\u001B[1;33m \u001B[0mdata\u001B[0m \u001B[1;33m=\u001B[0m \u001B[0mget_raw_factor101\u001B[0m\u001B[1;33m(\u001B[0m\u001B[1;33m)\u001B[0m\u001B[1;33m\u001B[0m\u001B[1;33m\u001B[0m\u001B[0m\n\u001B[0m\u001B[0;32m    102\u001B[0m \u001B[1;33m\u001B[0m\u001B[0m\n\u001B[0;32m    103\u001B[0m \u001B[1;33m\u001B[0m\u001B[0m\n",
      "\u001B[1;32mD:\\Homework\\quant\\factor_gen\\factor101.py\u001B[0m in \u001B[0;36mget_raw_factor101\u001B[1;34m()\u001B[0m\n\u001B[0;32m     32\u001B[0m \u001B[1;32mdef\u001B[0m \u001B[0mget_raw_factor101\u001B[0m\u001B[1;33m(\u001B[0m\u001B[1;33m)\u001B[0m\u001B[1;33m:\u001B[0m\u001B[1;33m\u001B[0m\u001B[1;33m\u001B[0m\u001B[0m\n\u001B[0;32m     33\u001B[0m     \u001B[1;34m'''预测数据'''\u001B[0m\u001B[1;33m\u001B[0m\u001B[1;33m\u001B[0m\u001B[0m\n\u001B[1;32m---> 34\u001B[1;33m     \u001B[0mforecast_data\u001B[0m \u001B[1;33m=\u001B[0m \u001B[0mpd\u001B[0m\u001B[1;33m.\u001B[0m\u001B[0mread_csv\u001B[0m\u001B[1;33m(\u001B[0m\u001B[0mos\u001B[0m\u001B[1;33m.\u001B[0m\u001B[0mpath\u001B[0m\u001B[1;33m.\u001B[0m\u001B[0mjoin\u001B[0m\u001B[1;33m(\u001B[0m\u001B[0mroot\u001B[0m\u001B[1;33m,\u001B[0m\u001B[1;34m'raw_data'\u001B[0m\u001B[1;33m,\u001B[0m\u001B[1;34m'factor101'\u001B[0m\u001B[1;33m,\u001B[0m\u001B[1;34m'PerformanceForecast_DataYes.csv'\u001B[0m\u001B[1;33m)\u001B[0m\u001B[1;33m)\u001B[0m\u001B[1;33m\u001B[0m\u001B[1;33m\u001B[0m\u001B[0m\n\u001B[0m\u001B[0;32m     35\u001B[0m     \u001B[0mforecast_data\u001B[0m \u001B[1;33m=\u001B[0m \u001B[0mforecast_data\u001B[0m\u001B[1;33m.\u001B[0m\u001B[0mdrop\u001B[0m\u001B[1;33m(\u001B[0m\u001B[0mcolumns\u001B[0m \u001B[1;33m=\u001B[0m \u001B[1;33m[\u001B[0m\u001B[1;34m'ID'\u001B[0m\u001B[1;33m,\u001B[0m\u001B[1;34m'RptDate'\u001B[0m\u001B[1;33m,\u001B[0m\u001B[1;34m'UPDATE_TIME'\u001B[0m\u001B[1;33m,\u001B[0m\u001B[1;34m'EndDate'\u001B[0m\u001B[1;33m]\u001B[0m\u001B[1;33m)\u001B[0m\u001B[1;33m\u001B[0m\u001B[1;33m\u001B[0m\u001B[0m\n\u001B[0;32m     36\u001B[0m \u001B[1;33m\u001B[0m\u001B[0m\n",
      "\u001B[1;31mNameError\u001B[0m: name 'root' is not defined"
     ]
    }
   ],
   "source": [
    "import os\n",
    "import pandas as pd\n",
    "import numpy as np\n",
    "import utils.tools as tools\n",
    "import utils.calculators as calculators\n",
    "import factor_gen.y as y\n",
    "\n",
    "def load_data_from_PX(path):\n",
    "    data1 = mat73.loadmat(path)\n",
    "\n",
    "    col = data1['LocalID']\n",
    "    ind = tools.ConTimeDay(data1)\n",
    "    ind = tools.Str2times(ind)\n",
    "    filter = ind >= '2018-01-01'\n",
    "\n",
    "    Open = data1['Open']\n",
    "    Open = pd.DataFrame(Open)\n",
    "    Open.columns = col\n",
    "    Open.index = ind\n",
    "    Open = Open.iloc[filter]\n",
    "\n",
    "    High = data1['High']\n",
    "    High = pd.DataFrame(High)\n",
    "    High.columns = col\n",
    "    High.index = ind\n",
    "    High = High.iloc[filter]\n",
    "\n",
    "    Low = data1['Low']\n",
    "    Low = pd.DataFrame(Low)\n",
    "    Low.columns = col\n",
    "    Low.index = ind\n",
    "    Low = Low.iloc[filter]\n",
    "\n",
    "    Close = data1['Close']\n",
    "    Close = pd.DataFrame(Close)\n",
    "    Close.columns = col\n",
    "    Close.index = ind\n",
    "    Close = Close.iloc[filter]\n",
    "\n",
    "    Volume = data1['Volume']  # 日交易量\n",
    "    Volume = pd.DataFrame(Volume)\n",
    "    Volume.columns = col\n",
    "    Volume.index = ind\n",
    "    Volume = Volume.iloc[filter]\n",
    "\n",
    "    Amount = data1['Value']  # 日交易额\n",
    "    Amount = pd.DataFrame(Amount)\n",
    "    Amount.columns = col\n",
    "    Amount.index = ind\n",
    "    Amount = Amount.iloc[filter]\n",
    "\n",
    "    TotalRet = data1['TotalRet']\n",
    "    TotalRet = pd.DataFrame(TotalRet)\n",
    "    TotalRet.columns = col\n",
    "    TotalRet.index = ind\n",
    "    TotalRet = TotalRet.iloc[filter]\n",
    "\n",
    "    VWAP = data1['VWAP']\n",
    "    VWAP = pd.DataFrame(VWAP)\n",
    "    VWAP.columns = col\n",
    "    VWAP.index = ind\n",
    "    VWAP = VWAP.iloc[filter]\n",
    "\n",
    "    # 清除新上市的股票\n",
    "    listed = Volume.copy()\n",
    "    listed[listed.isna()] = 0\n",
    "    listed = listed.cumsum()  # get the cumsum values\n",
    "    listed = listed.shift(30)\n",
    "    listed[listed.isna()] = 0\n",
    "\n",
    "    TotalRet[listed == 0] = np.nan\n",
    "    Volume[listed == 0] = np.nan\n",
    "    Amount[listed == 0] = np.nan\n",
    "    Open[listed == 0] = np.nan\n",
    "    High[listed == 0] = np.nan\n",
    "    Low[listed == 0] = np.nan\n",
    "    Close[listed == 0] = np.nan\n",
    "    VWAP[listed == 0] = np.nan\n",
    "\n",
    "    TradeDay = Amount.sum(1)\n",
    "    TradeDay[TradeDay > 0] = 1\n",
    "\n",
    "    return Open, High, Low, Close, Volume, Amount, TotalRet, VWAP, TradeDay\n",
    "\n",
    "\n",
    "# 布林线\n",
    "def get_bollinger_band(Close, TradeDay, mean_day=20, std_index=2):\n",
    "    mean_line = calculators.ts_Mean(Close, mean_day, TradeDay)\n",
    "    std = calculators.ts_Stdev(Close, mean_day, TradeDay)\n",
    "    up_line = mean_line + std_index * std\n",
    "    down_line = mean_line - std_index * std\n",
    "    return mean_line, up_line, down_line\n",
    "\n",
    "\n",
    "def get_EMA(Close, num=1):\n",
    "    if num == 1:\n",
    "        return Close\n",
    "    last_EMA = get_EMA(Close, num - 1)\n",
    "    EMA = (num - 1) / (num + 1) * last_EMA.shift(1) + 2 / (num + 1) * Close\n",
    "    return EMA\n",
    "\n",
    "\n",
    "def get_MA(Close, TradeDay, num=200):\n",
    "    return calculators.ts_Mean(Close, num, TradeDay)\n",
    "\n",
    "\n",
    "def get_MACD(Close, TradeDay, ):\n",
    "    Close = calculators.OnlyTrading(Close, TradeDay)\n",
    "    EMA12 = get_EMA(Close, 12)\n",
    "    EMA26 = get_EMA(Close, 26)\n",
    "    DIF = EMA12 - EMA26\n",
    "    DIF_EMA9 = get_EMA(DIF, 9)\n",
    "    volume = 2 * (DIF - DIF_EMA9)\n",
    "    return volume, DIF, DIF_EMA9\n",
    "\n",
    "\n",
    "def get_Aroon(Close, TradeDay, num=20):\n",
    "    Close = calculators.OnlyTrading(Close, TradeDay)\n",
    "    max_index = Close.rolling(windows=num).argmax()\n",
    "    min_index = Close.rolling(windows=num).argmin()\n",
    "    index = np.linspace(0, len(Close.index)).repeat(len(Close.columns), axis=0).T\n",
    "    Aroon_up = (- (max_index - index)).round(num) / num\n",
    "    Aroon_down = (- (min_index - index)).round(num) / num\n",
    "    Aroon_osc = Aroon_up - Aroon_down\n",
    "    return Aroon_up, Aroon_down, Aroon_osc"
   ],
   "metadata": {
    "collapsed": false,
    "pycharm": {
     "name": "#%%\n"
    }
   }
  }
 ],
 "metadata": {
  "kernelspec": {
   "display_name": "Python 3",
   "language": "python",
   "name": "python3"
  },
  "language_info": {
   "codemirror_mode": {
    "name": "ipython",
    "version": 2
   },
   "file_extension": ".py",
   "mimetype": "text/x-python",
   "name": "python",
   "nbconvert_exporter": "python",
   "pygments_lexer": "ipython2",
   "version": "2.7.6"
  }
 },
 "nbformat": 4,
 "nbformat_minor": 0
}