{
 "cells": [
  {
   "cell_type": "code",
   "execution_count": 1,
   "metadata": {
    "collapsed": true
   },
   "outputs": [
    {
     "name": "stdout",
     "output_type": "stream",
     "text": [
      "hello world\n"
     ]
    }
   ],
   "source": [
    "print('hello world')\n"
   ]
  },
  {
   "cell_type": "code",
   "execution_count": 2,
   "outputs": [],
   "source": [
    "import os\n",
    "import pandas as pd\n",
    "import numpy as np\n",
    "import utils.tools as tools\n",
    "import utils.calculators as calculators\n",
    "import factor_gen.y as y\n",
    "import mat73\n",
    "\n",
    "\n",
    "def load_data_from_PX(path):\n",
    "    data1 = mat73.loadmat(path)\n",
    "    data1 = data1['Px']\n",
    "    col = data1['LocalID']\n",
    "    ind = tools.ConTimeDay(data1)\n",
    "    ind = tools.Str2times(ind)\n",
    "\n",
    "    Open = data1['Open']\n",
    "    Open = pd.DataFrame(Open)\n",
    "    Open.columns = col\n",
    "    Open.index = ind\n",
    "\n",
    "    filter = Open.index >= '2018-01-01'\n",
    "    Open = Open.iloc[filter]\n",
    "\n",
    "    High = data1['High']\n",
    "    High = pd.DataFrame(High)\n",
    "    High.columns = col\n",
    "    High.index = ind\n",
    "    High = High.iloc[filter]\n",
    "\n",
    "    Low = data1['Low']\n",
    "    Low = pd.DataFrame(Low)\n",
    "    Low.columns = col\n",
    "    Low.index = ind\n",
    "    Low = Low.iloc[filter]\n",
    "\n",
    "    Close = data1['Close']\n",
    "    Close = pd.DataFrame(Close)\n",
    "    Close.columns = col\n",
    "    Close.index = ind\n",
    "    Close = Close.iloc[filter]\n",
    "\n",
    "    Volume = data1['Volume']  # 日交易量\n",
    "    Volume = pd.DataFrame(Volume)\n",
    "    Volume.columns = col\n",
    "    Volume.index = ind\n",
    "    Volume = Volume.iloc[filter]\n",
    "\n",
    "    Amount = data1['Value']  # 日交易额\n",
    "    Amount = pd.DataFrame(Amount)\n",
    "    Amount.columns = col\n",
    "    Amount.index = ind\n",
    "    Amount = Amount.iloc[filter]\n",
    "\n",
    "    TotalRet = data1['TotalRet']\n",
    "    TotalRet = pd.DataFrame(TotalRet)\n",
    "    TotalRet.columns = col\n",
    "    TotalRet.index = ind\n",
    "    TotalRet = TotalRet.iloc[filter]\n",
    "\n",
    "    VWAP = data1['VWAP']\n",
    "    VWAP = pd.DataFrame(VWAP)\n",
    "    VWAP.columns = col\n",
    "    VWAP.index = ind\n",
    "    VWAP = VWAP.iloc[filter]\n",
    "\n",
    "    # 清除新上市的股票\n",
    "    listed = Volume.copy()\n",
    "    listed[listed.isna()] = 0\n",
    "    listed = listed.cumsum()  # get the cumsum values\n",
    "    listed = listed.shift(30)\n",
    "    listed[listed.isna()] = 0\n",
    "\n",
    "    TotalRet[listed == 0] = np.nan\n",
    "    Volume[listed == 0] = np.nan\n",
    "    Amount[listed == 0] = np.nan\n",
    "    Open[listed == 0] = np.nan\n",
    "    High[listed == 0] = np.nan\n",
    "    Low[listed == 0] = np.nan\n",
    "    Close[listed == 0] = np.nan\n",
    "    VWAP[listed == 0] = np.nan\n",
    "\n",
    "    TradeDay = Amount.sum(1)\n",
    "    TradeDay[TradeDay > 0] = 1\n",
    "\n",
    "    return Open[TradeDay == 1], High[TradeDay == 1], Low[TradeDay == 1], Close[TradeDay == 1], Volume[TradeDay == 1]\\\n",
    "        , Amount[TradeDay == 1], TotalRet[TradeDay == 1], VWAP[TradeDay == 1], TradeDay\n",
    "\n",
    "\n",
    "# 布林线\n",
    "def get_bollinger_band(Close, TradeDay, mean_day=20, std_index=2):\n",
    "    mean_line = calculators.ts_Mean(Close, mean_day, TradeDay)\n",
    "    std = calculators.ts_Stdev(Close, mean_day, TradeDay)\n",
    "    up_line = mean_line + std_index * std\n",
    "    down_line = mean_line - std_index * std\n",
    "    return mean_line, up_line, down_line\n",
    "\n",
    "\n",
    "def get_EMA(Close, num=1):\n",
    "    if num == 1:\n",
    "        return Close\n",
    "    last_EMA = get_EMA(Close, num - 1)\n",
    "    EMA = (num - 1) / (num + 1) * last_EMA.shift(1) + 2 / (num + 1) * Close\n",
    "    return EMA\n",
    "\n",
    "\n",
    "def get_MA(Close, TradeDay, num=200):\n",
    "    return calculators.ts_Mean(Close, num, TradeDay)\n",
    "\n",
    "\n",
    "def get_MACD(Close, TradeDay, ):\n",
    "    Close = calculators.OnlyTrading(Close, TradeDay)\n",
    "    EMA12 = get_EMA(Close, 12)\n",
    "    EMA26 = get_EMA(Close, 26)\n",
    "    DIF = EMA12 - EMA26\n",
    "    DIF_EMA9 = get_EMA(DIF, 9)\n",
    "    volume = 2 * (DIF - DIF_EMA9)\n",
    "    return volume, DIF, DIF_EMA9\n",
    "\n",
    "\n",
    "def get_Aroon(Close, num=20):\n",
    "    max_index = Close.rolling(windows=num).argmax()\n",
    "    min_index = Close.rolling(windows=num).argmin()\n",
    "    index = np.linspace(0, len(Close.index)).repeat(len(Close.columns), axis=0).T\n",
    "    Aroon_up = (- (max_index - index)).round(num) / num\n",
    "    Aroon_down = (- (min_index - index)).round(num) / num\n",
    "    Aroon_osc = Aroon_up - Aroon_down\n",
    "    return Aroon_up, Aroon_down, Aroon_osc"
   ],
   "metadata": {
    "collapsed": false,
    "pycharm": {
     "name": "#%%\n"
    }
   }
  },
  {
   "cell_type": "code",
   "execution_count": 3,
   "outputs": [],
   "source": [
    "Open, High, Low, Close, Volume, Amount, TotalRet, VWAP, TradeDay \\\n",
    "        = load_data_from_PX('../raw_data/Px_new.mat')"
   ],
   "metadata": {
    "collapsed": false,
    "pycharm": {
     "name": "#%%\n"
    }
   }
  },
  {
   "cell_type": "code",
   "execution_count": 4,
   "outputs": [
    {
     "ename": "TypeError",
     "evalue": "ts_Delay() missing 1 required positional argument: 'TradeDay'",
     "output_type": "error",
     "traceback": [
      "\u001B[1;31m---------------------------------------------------------------------------\u001B[0m",
      "\u001B[1;31mTypeError\u001B[0m                                 Traceback (most recent call last)",
      "\u001B[1;32m<ipython-input-4-f7f6a5c95a86>\u001B[0m in \u001B[0;36m<module>\u001B[1;34m\u001B[0m\n\u001B[0;32m      6\u001B[0m \u001B[0mSDate\u001B[0m\u001B[1;33m,\u001B[0m\u001B[0mEDate\u001B[0m \u001B[1;33m=\u001B[0m \u001B[1;36m0\u001B[0m\u001B[1;33m,\u001B[0m\u001B[0mlen\u001B[0m\u001B[1;33m(\u001B[0m\u001B[0mClose\u001B[0m\u001B[1;33m)\u001B[0m\u001B[1;33m\u001B[0m\u001B[1;33m\u001B[0m\u001B[0m\n\u001B[0;32m      7\u001B[0m \u001B[0mstart\u001B[0m \u001B[1;33m=\u001B[0m \u001B[0mSDate\u001B[0m\u001B[1;33m\u001B[0m\u001B[1;33m\u001B[0m\u001B[0m\n\u001B[1;32m----> 8\u001B[1;33m \u001B[0mPerformanceWithCost\u001B[0m\u001B[1;33m(\u001B[0m\u001B[0mf1\u001B[0m\u001B[1;33m,\u001B[0m \u001B[0mTotalRet\u001B[0m\u001B[1;33m,\u001B[0m \u001B[0mTradeDay\u001B[0m\u001B[1;33m,\u001B[0m \u001B[1;36m2\u001B[0m\u001B[1;33m,\u001B[0m \u001B[1;36m0.002\u001B[0m\u001B[1;33m,\u001B[0m \u001B[1;36m1\u001B[0m\u001B[1;33m,\u001B[0m \u001B[0mSDate\u001B[0m\u001B[1;33m,\u001B[0m \u001B[0mEDate\u001B[0m\u001B[1;33m)\u001B[0m\u001B[1;33m\u001B[0m\u001B[1;33m\u001B[0m\u001B[0m\n\u001B[0m\u001B[0;32m      9\u001B[0m \u001B[1;33m\u001B[0m\u001B[0m\n",
      "\u001B[1;32mD:\\Homework\\quant\\factor_filter\\factor_filter.py\u001B[0m in \u001B[0;36mPerformanceWithCost\u001B[1;34m(f1, TotalRet, TradeDay, delayNum, cost, fig, SDate, EDate)\u001B[0m\n\u001B[0;32m     89\u001B[0m         \u001B[0mfactorRet\u001B[0m \u001B[1;33m=\u001B[0m \u001B[0mfactorRet\u001B[0m \u001B[1;33m*\u001B[0m \u001B[1;33m-\u001B[0m\u001B[1;36m1\u001B[0m\u001B[1;33m\u001B[0m\u001B[1;33m\u001B[0m\u001B[0m\n\u001B[0;32m     90\u001B[0m     \u001B[1;31m# 4 get cost\u001B[0m\u001B[1;33m\u001B[0m\u001B[1;33m\u001B[0m\u001B[1;33m\u001B[0m\u001B[0m\n\u001B[1;32m---> 91\u001B[1;33m     \u001B[0mCost\u001B[0m \u001B[1;33m=\u001B[0m \u001B[0mGetCost\u001B[0m\u001B[1;33m(\u001B[0m\u001B[0mf1_stand_D2\u001B[0m\u001B[1;33m,\u001B[0m \u001B[0mcost\u001B[0m\u001B[1;33m)\u001B[0m\u001B[1;33m\u001B[0m\u001B[1;33m\u001B[0m\u001B[0m\n\u001B[0m\u001B[0;32m     92\u001B[0m     \u001B[0mfactorRet\u001B[0m \u001B[1;33m=\u001B[0m \u001B[0mfactorRet\u001B[0m \u001B[1;33m-\u001B[0m \u001B[0mCost\u001B[0m\u001B[1;33m\u001B[0m\u001B[1;33m\u001B[0m\u001B[0m\n\u001B[0;32m     93\u001B[0m     \u001B[1;31m# 5 choose date & clean data\u001B[0m\u001B[1;33m\u001B[0m\u001B[1;33m\u001B[0m\u001B[1;33m\u001B[0m\u001B[0m\n",
      "\u001B[1;32mD:\\Homework\\quant\\factor_filter\\factor_filter.py\u001B[0m in \u001B[0;36mGetCost\u001B[1;34m(f1_stand_D2, cost)\u001B[0m\n\u001B[0;32m     65\u001B[0m \u001B[1;33m\u001B[0m\u001B[0m\n\u001B[0;32m     66\u001B[0m \u001B[1;32mdef\u001B[0m \u001B[0mGetCost\u001B[0m\u001B[1;33m(\u001B[0m\u001B[0mf1_stand_D2\u001B[0m\u001B[1;33m,\u001B[0m \u001B[0mcost\u001B[0m\u001B[1;33m)\u001B[0m\u001B[1;33m:\u001B[0m\u001B[1;33m\u001B[0m\u001B[1;33m\u001B[0m\u001B[0m\n\u001B[1;32m---> 67\u001B[1;33m     \u001B[0mCost\u001B[0m \u001B[1;33m=\u001B[0m \u001B[0mcost\u001B[0m \u001B[1;33m*\u001B[0m \u001B[1;33m(\u001B[0m\u001B[0mf1_stand_D2\u001B[0m \u001B[1;33m-\u001B[0m \u001B[0mts_Delay\u001B[0m\u001B[1;33m(\u001B[0m\u001B[0mf1_stand_D2\u001B[0m\u001B[1;33m,\u001B[0m \u001B[1;36m1\u001B[0m\u001B[1;33m)\u001B[0m\u001B[1;33m)\u001B[0m\u001B[1;33m\u001B[0m\u001B[1;33m\u001B[0m\u001B[0m\n\u001B[0m\u001B[0;32m     68\u001B[0m     \u001B[1;32mreturn\u001B[0m \u001B[0mCost\u001B[0m\u001B[1;33m.\u001B[0m\u001B[0mabs\u001B[0m\u001B[1;33m(\u001B[0m\u001B[1;33m)\u001B[0m\u001B[1;33m\u001B[0m\u001B[1;33m\u001B[0m\u001B[0m\n\u001B[0;32m     69\u001B[0m \u001B[1;33m\u001B[0m\u001B[0m\n",
      "\u001B[1;31mTypeError\u001B[0m: ts_Delay() missing 1 required positional argument: 'TradeDay'"
     ]
    }
   ],
   "source": [
    "from factor_filter.factor_filter import PerformanceWithCost\n",
    "\n",
    "mean_line, up_line, down_line = get_bollinger_band(Close)\n",
    "f1 = Close-up_line\n",
    "f2 = Close-down_line\n",
    "SDate,EDate = 0,len(Close)\n",
    "start = SDate\n",
    "PerformanceWithCost(f1, TotalRet, 2, 0.002, 1, SDate, EDate)\n"
   ],
   "metadata": {
    "collapsed": false,
    "pycharm": {
     "name": "#%%\n"
    }
   }
  }
 ],
 "metadata": {
  "kernelspec": {
   "display_name": "Python 3",
   "language": "python",
   "name": "python3"
  },
  "language_info": {
   "codemirror_mode": {
    "name": "ipython",
    "version": 2
   },
   "file_extension": ".py",
   "mimetype": "text/x-python",
   "name": "python",
   "nbconvert_exporter": "python",
   "pygments_lexer": "ipython2",
   "version": "2.7.6"
  }
 },
 "nbformat": 4,
 "nbformat_minor": 0
}