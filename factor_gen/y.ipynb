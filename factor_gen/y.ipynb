{
 "cells": [
  {
   "cell_type": "code",
   "execution_count": 5,
   "id": "9420dc2e",
   "metadata": {},
   "outputs": [],
   "source": [
    "# change browser to chrome to open jupyter notebook : https://www.jb51.net/article/186420.htm\n",
    "\n",
    "# import basic modules\n",
    "import pandas as pd\n",
    "import numpy as np\n",
    "\n",
    "import mat73  # Comment: use \" pip install mat73\" in Annaconda Powershell to install mat73 \n",
    "import os\n",
    "\n",
    "root = 'C:/Users/DELL/Desktop/recent/研一下/学习/量化/final_project/quant_code/'\n",
    "os.chdir(root)\n",
    "\n",
    "import utils.tools as tools # local module to deel with time format change\n",
    "import utils.calculators as calculators\n",
    "import factor_gen.factor101"
   ]
  },
  {
   "cell_type": "code",
   "execution_count": 6,
   "id": "b6790b16",
   "metadata": {},
   "outputs": [],
   "source": [
    "def get_day_rate():\n",
    "    file = os.path.join(root,'raw_data','Px_new.mat')\n",
    "    data1 = mat73.loadmat(file)\n",
    "    data1 = data1['Px']\n",
    "\n",
    "    col = data1['LocalID']\n",
    "    ind = tools.ConTimeDay(data1) \n",
    "    ind = tools.Str2times(ind)\n",
    "\n",
    "    Close = data1['AdjClose']\n",
    "    Close = pd.DataFrame(Close)\n",
    "    Close.columns  = col\n",
    "    Close.index = ind\n",
    "    \n",
    "    Rate = Close/Close.shift(1)-1#收盘价/昨日收盘价-1\n",
    "    \n",
    "    Rate = Rate[Rate.index>='2018-01-01']\n",
    "\n",
    "    del data1,Close\n",
    "    \n",
    "    #拼接\n",
    "    i = 1\n",
    "    for code in col:\n",
    "        if i ==1:\n",
    "            data = pd.DataFrame(Rate[code])\n",
    "            data = data.reset_index()\n",
    "            data.columns = ['time','rate']\n",
    "            data ['code'] = int(code)\n",
    "        else:\n",
    "            data_temp = pd.DataFrame(Rate[code])\n",
    "            data_temp = data_temp.reset_index()\n",
    "            data_temp.columns = ['time','rate']\n",
    "            data_temp ['code'] = int(code)\n",
    "            data = data.append(data_temp)\n",
    "            del data_temp\n",
    "        if i%500 == 0: print(i)\n",
    "        i+=1\n",
    "    return data"
   ]
  },
  {
   "cell_type": "code",
   "execution_count": 21,
   "id": "41ac62d3",
   "metadata": {},
   "outputs": [],
   "source": [
    "#rate = get_dat_rate()\n",
    "def get_y(rate,percent):\n",
    "    def apply_range(x,percent = percent):\n",
    "        if x>percent:\n",
    "            x=1\n",
    "        if x<-percent:\n",
    "            x=-1\n",
    "        if x>=-percent and x<=percent:\n",
    "            x=0\n",
    "        return x\n",
    "    rate['y'] = rate['rate'].apply(lambda x:apply_range(x))\n",
    "    rate = rate.drop(columns = ['rate'])\n",
    "    return rate"
   ]
  },
  {
   "cell_type": "code",
   "execution_count": 8,
   "id": "87b427a1",
   "metadata": {},
   "outputs": [
    {
     "name": "stdout",
     "output_type": "stream",
     "text": [
      "500\n",
      "1000\n",
      "1500\n",
      "2000\n",
      "2500\n",
      "3000\n",
      "3500\n",
      "4000\n",
      "4500\n"
     ]
    },
    {
     "ename": "UnboundLocalError",
     "evalue": "local variable 'data' referenced before assignment",
     "output_type": "error",
     "traceback": [
      "\u001b[1;31m---------------------------------------------------------------------------\u001b[0m",
      "\u001b[1;31mUnboundLocalError\u001b[0m                         Traceback (most recent call last)",
      "\u001b[1;32m<ipython-input-8-8cbcba2d20ce>\u001b[0m in \u001b[0;36m<module>\u001b[1;34m\u001b[0m\n\u001b[0;32m      1\u001b[0m \u001b[0mrate\u001b[0m \u001b[1;33m=\u001b[0m \u001b[0mget_rate\u001b[0m\u001b[1;33m(\u001b[0m\u001b[1;33m)\u001b[0m\u001b[1;33m\u001b[0m\u001b[1;33m\u001b[0m\u001b[0m\n\u001b[1;32m----> 2\u001b[1;33m \u001b[0my\u001b[0m \u001b[1;33m=\u001b[0m \u001b[0mget_y\u001b[0m\u001b[1;33m(\u001b[0m\u001b[0mrate\u001b[0m\u001b[1;33m)\u001b[0m\u001b[1;33m\u001b[0m\u001b[1;33m\u001b[0m\u001b[0m\n\u001b[0m",
      "\u001b[1;32m<ipython-input-7-2b321704064e>\u001b[0m in \u001b[0;36mget_y\u001b[1;34m(rate)\u001b[0m\n\u001b[0;32m      9\u001b[0m             \u001b[0mx\u001b[0m\u001b[1;33m=\u001b[0m\u001b[1;36m0\u001b[0m\u001b[1;33m\u001b[0m\u001b[1;33m\u001b[0m\u001b[0m\n\u001b[0;32m     10\u001b[0m         \u001b[1;32mreturn\u001b[0m \u001b[0mx\u001b[0m\u001b[1;33m\u001b[0m\u001b[1;33m\u001b[0m\u001b[0m\n\u001b[1;32m---> 11\u001b[1;33m     \u001b[0mdata\u001b[0m\u001b[1;33m[\u001b[0m\u001b[1;34m'y'\u001b[0m\u001b[1;33m]\u001b[0m \u001b[1;33m=\u001b[0m \u001b[0mdata\u001b[0m\u001b[1;33m[\u001b[0m\u001b[1;34m'rate'\u001b[0m\u001b[1;33m]\u001b[0m\u001b[1;33m.\u001b[0m\u001b[0mapply\u001b[0m\u001b[1;33m(\u001b[0m\u001b[1;32mlambda\u001b[0m \u001b[0mx\u001b[0m\u001b[1;33m:\u001b[0m\u001b[0mapply_range\u001b[0m\u001b[1;33m(\u001b[0m\u001b[0mx\u001b[0m\u001b[1;33m)\u001b[0m\u001b[1;33m)\u001b[0m\u001b[1;33m\u001b[0m\u001b[1;33m\u001b[0m\u001b[0m\n\u001b[0m\u001b[0;32m     12\u001b[0m     \u001b[0mdata\u001b[0m \u001b[1;33m=\u001b[0m \u001b[0mdata\u001b[0m\u001b[1;33m.\u001b[0m\u001b[0mdrop\u001b[0m\u001b[1;33m(\u001b[0m\u001b[0mcolumns\u001b[0m \u001b[1;33m=\u001b[0m \u001b[1;33m[\u001b[0m\u001b[1;34m'rate'\u001b[0m\u001b[1;33m]\u001b[0m\u001b[1;33m)\u001b[0m\u001b[1;33m\u001b[0m\u001b[1;33m\u001b[0m\u001b[0m\n",
      "\u001b[1;31mUnboundLocalError\u001b[0m: local variable 'data' referenced before assignment"
     ]
    }
   ],
   "source": [
    "if __name__=='__main__':\n",
    "    rate = get_day_rate()\n",
    "    y = get_y(rate,percent = 0.03)\n",
    "    print(y.groupby('y').count())"
   ]
  }
 ],
 "metadata": {
  "kernelspec": {
   "display_name": "Python 3",
   "language": "python",
   "name": "python3"
  },
  "language_info": {
   "codemirror_mode": {
    "name": "ipython",
    "version": 3
   },
   "file_extension": ".py",
   "mimetype": "text/x-python",
   "name": "python",
   "nbconvert_exporter": "python",
   "pygments_lexer": "ipython3",
   "version": "3.6.12"
  }
 },
 "nbformat": 4,
 "nbformat_minor": 5
}
